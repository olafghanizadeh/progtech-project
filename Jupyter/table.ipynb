{
 "cells": [
  {
   "cell_type": "code",
   "execution_count": 14,
   "metadata": {
    "collapsed": true,
    "pycharm": {
     "is_executing": false
    }
   },
   "outputs": [
    {
     "name": "stdout",
     "text": [
      "\\begin{tabular}{rrrrrrrrr}\n",
      "\\toprule\n",
      "   $p$ &  $1-p$ & $A_{High}$ & $A_{Low}$ & $B_{High}$ & $B_{Low}$ & $E[A]$ &   $E[B]$ & Difference \\\\\n",
      "\\midrule\n",
      " 0.125 &  0.875 &        200 &       160 &        385 &        10 &  165.0 &   56.875 &    108.125 \\\\\n",
      " 0.250 &  0.750 &        200 &       160 &        385 &        10 &  170.0 &  103.750 &     66.250 \\\\\n",
      " 0.375 &  0.625 &        200 &       160 &        385 &        10 &  175.0 &  150.625 &     24.375 \\\\\n",
      " 0.500 &  0.500 &        200 &       160 &        385 &        10 &  180.0 &  197.500 &    -17.500 \\\\\n",
      " 0.625 &  0.375 &        200 &       160 &        385 &        10 &  185.0 &  244.375 &    -59.375 \\\\\n",
      " 0.750 &  0.250 &        200 &       160 &        385 &        10 &  190.0 &  291.250 &   -101.250 \\\\\n",
      " 0.875 &  0.125 &        200 &       160 &        385 &        10 &  195.0 &  338.125 &   -143.125 \\\\\n",
      " 1.000 &  0.000 &        200 &       160 &        385 &        10 &  200.0 &  385.000 &   -185.000 \\\\\n",
      "\\bottomrule\n",
      "\\end{tabular}\n",
      "\n"
     ],
     "output_type": "stream"
    }
   ],
   "source": [
    "import pandas as pd\n",
    "n = 8\n",
    "\n",
    "def create_index(choices):\n",
    "    index = [j for j in range(1, choices + 1)]\n",
    "    return index\n",
    "\n",
    "index = create_index(n)\n",
    "\n",
    "probs = [\n",
    "    i / n\n",
    "    for i in index\n",
    "        ]\n",
    "\n",
    "inverse_p = [1 - p for p in probs]\n",
    "\n",
    "df = pd.DataFrame()\n",
    "\n",
    "# df['choice'] = ['Choice ' + str(i) for i in range(1,9)]\n",
    "df['p_hi']=probs\n",
    "df['p_lo']=inverse_p\n",
    "df['a_hi'] = [200 for i in range(0,len(df))]\n",
    "df['a_lo'] = [160 for i in range(0,len(df))]\n",
    "df['b_hi'] = [385 for i in range(0,len(df))]\n",
    "df['b_lo'] = [10 for i in range(0,len(df))]\n",
    "df['E(a)'] = (df['a_hi']*df['p_hi'])+(df['a_lo']*df['p_lo'])\n",
    "df['E(b)'] = (df['b_hi']*df['p_hi'])+(df['b_lo']*df['p_lo'])\n",
    "df['diff'] = df['E(a)'] - df['E(b)']\n",
    "\n",
    "\n",
    "\n",
    "\n",
    "tex = df.to_latex(index=False,escape=False, header=['$p$', '$1-p$', '$A_{High}$', '$A_{Low}$', '$B_{High}$', '$B_{Low}$', '$E[A]$', '$E[B]$', 'Difference'])\n",
    "\n",
    "\n",
    "print(tex)"
   ]
  }
 ],
 "metadata": {
  "kernelspec": {
   "name": "python3",
   "language": "python",
   "display_name": "Python 3"
  },
  "language_info": {
   "codemirror_mode": {
    "name": "ipython",
    "version": 2
   },
   "file_extension": ".py",
   "mimetype": "text/x-python",
   "name": "python",
   "nbconvert_exporter": "python",
   "pygments_lexer": "ipython2",
   "version": "2.7.6"
  },
  "pycharm": {
   "stem_cell": {
    "cell_type": "raw",
    "source": [],
    "metadata": {
     "collapsed": false
    }
   }
  }
 },
 "nbformat": 4,
 "nbformat_minor": 0
}