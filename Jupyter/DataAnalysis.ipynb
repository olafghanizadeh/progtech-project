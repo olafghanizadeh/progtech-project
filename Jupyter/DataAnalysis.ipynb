{
 "cells": [
  {
   "cell_type": "markdown",
   "source": [
    "# Data analysis of lottery experiment"
   ],
   "metadata": {
    "collapsed": false
   }
  },
  {
   "cell_type": "markdown",
   "source": [
    "## Import dependencies\n",
    "We use Pandas to handle our data, numpy for some random sampling and matplotlib to generate plots. In addition we need Matplotlibs PDF backend to export high-quality versions of our plot"
   ],
   "metadata": {
    "collapsed": false
   }
  },
  {
   "cell_type": "code",
   "execution_count": 155,
   "metadata": {
    "collapsed": true,
    "pycharm": {
     "is_executing": false
    }
   },
   "outputs": [],
   "source": [
    "#Import dependencies\n",
    "import pandas as pd\n",
    "import numpy as np\n",
    "from matplotlib.backends.backend_pdf import PdfPages\n",
    "import matplotlib.pyplot as plt\n",
    "\n",
    "%matplotlib inline\n"
   ]
  },
  {
   "cell_type": "markdown",
   "source": [],
   "metadata": {
    "collapsed": false
   }
  },
  {
   "cell_type": "code",
   "execution_count": 155,
   "outputs": [],
   "source": [],
   "metadata": {
    "collapsed": false,
    "pycharm": {
     "name": "#%%\n",
     "is_executing": false
    }
   }
  },
  {
   "cell_type": "markdown",
   "source": [
    "## Importing and cleaning the data\n",
    "\n",
    "\n",
    "### Selecting the data to import\n",
    "The only data we are interested in are the names of the participants, their indicated risk preferences. With pandas we can define which columns we want to pick from the input file with the usecols argument. "
   ],
   "metadata": {
    "collapsed": false,
    "pycharm": {
     "name": "#%% md\n"
    }
   }
  },
  {
   "cell_type": "code",
   "execution_count": 156,
   "outputs": [],
   "source": [
    "# Create a list of the column names corresponding with the number of choices in df\n",
    "choices = [\"player.choice_\" + str(i) for i in range(1,9)]\n",
    "# Select the other columns we want\n",
    "cols = ['player.id_in_group', 'player.name', 'player.risk', 'session.code']\n",
    "# Merge the two lists\n",
    "usecols = cols + choices\n",
    "\n",
    "# Create the dataframe from CSV\n",
    "df = pd.read_csv('../Data/risk_lottery_2019-12-11.csv', usecols=usecols)\n",
    "\n",
    "#We only want the data from the relevant session\n",
    "df = df.loc[df['session.code'] == '32nbns7y']\n",
    "\n",
    "# Delete empty sessions\n",
    "df = df.dropna()\n",
    "\n",
    "# Drop an irrelevant entry (Last Entry in Session)\n",
    "df = df.drop(df.index[-1])\n",
    "\n",
    "\n"
   ],
   "metadata": {
    "collapsed": false,
    "pycharm": {
     "name": "#%%\n",
     "is_executing": false
    }
   }
  },
  {
   "cell_type": "markdown",
   "source": [
    "## Some functions to make data more readable\n",
    "A function to replace the numeric values with a more readable output. This was made in order to export a LaTex table from the random participant.\n"
   ],
   "metadata": {
    "collapsed": false
   }
  },
  {
   "cell_type": "code",
   "execution_count": 157,
   "outputs": [],
   "source": [
    "def replace_numeric(df):    \n",
    "    for choice in choices:\n",
    "        df[choice].replace({0:'A', 1:'B'},inplace=True)\n",
    "    df['player.risk'].replace({1.0:'Risk Averse', 2.0:'Risk Neutral', 3.0:'Risk Loving'}, inplace=True)\n",
    "    \n",
    "    return df\n",
    "\n",
    "\n"
   ],
   "metadata": {
    "collapsed": false,
    "pycharm": {
     "name": "#%%\n",
     "is_executing": false
    }
   }
  },
  {
   "cell_type": "code",
   "execution_count": 158,
   "outputs": [
    {
     "data": {
      "text/plain": "     player.id_in_group         player.name  player.risk  player.choice_1  \\\n182                   1        Aakash Ahuja          1.0              1.0   \n183                   2      Andreia Albino          2.0              1.0   \n184                   3  Anne-Sophie Vienne          2.0              1.0   \n187                   6    Catarina Pereira          1.0              1.0   \n189                   8           Cristiana          3.0              1.0   \n190                   9    Daniele Veggiato          1.0              1.0   \n191                  10         Diogo Bessa          2.0              1.0   \n192                  11  federico innocenti          3.0              1.0   \n193                  12  Francisca Medeiros          1.0              1.0   \n194                  13         Gil Azevedo          2.0              1.0   \n195                  14   Iacopo Fiorentino          3.0              1.0   \n196                  15      Ifeanyi Omokwe          3.0              1.0   \n197                  16               Iñigo          1.0              1.0   \n200                  19        Joao Salgado          3.0              1.0   \n201                  20       Laura Salomon          1.0              1.0   \n203                  22        Rita Carriço          1.0              1.0   \n205                  24        Miguel Alves          3.0              1.0   \n206                  25   Miguel Albergaria          2.0              1.0   \n208                  27        Pedro Matias          1.0              1.0   \n209                  28  Sheharyar Sirhindi          2.0              1.0   \n\n     player.choice_2  player.choice_3  player.choice_4  player.choice_5  \\\n182              1.0              1.0              1.0              1.0   \n183              1.0              1.0              0.0              0.0   \n184              1.0              1.0              0.0              0.0   \n187              1.0              0.0              1.0              0.0   \n189              1.0              1.0              0.0              0.0   \n190              1.0              1.0              0.0              0.0   \n191              1.0              1.0              1.0              1.0   \n192              1.0              1.0              1.0              0.0   \n193              1.0              1.0              1.0              0.0   \n194              1.0              1.0              0.0              0.0   \n195              1.0              1.0              0.0              0.0   \n196              0.0              0.0              0.0              0.0   \n197              1.0              1.0              1.0              1.0   \n200              1.0              1.0              1.0              0.0   \n201              1.0              1.0              1.0              0.0   \n203              1.0              1.0              0.0              0.0   \n205              1.0              1.0              0.0              0.0   \n206              0.0              0.0              0.0              0.0   \n208              1.0              1.0              1.0              1.0   \n209              1.0              0.0              0.0              0.0   \n\n     player.choice_6  player.choice_7  player.choice_8 session.code  \n182              1.0              1.0              0.0     32nbns7y  \n183              0.0              0.0              0.0     32nbns7y  \n184              0.0              0.0              0.0     32nbns7y  \n187              1.0              0.0              0.0     32nbns7y  \n189              0.0              0.0              0.0     32nbns7y  \n190              0.0              0.0              0.0     32nbns7y  \n191              0.0              0.0              0.0     32nbns7y  \n192              0.0              0.0              0.0     32nbns7y  \n193              0.0              0.0              0.0     32nbns7y  \n194              0.0              0.0              0.0     32nbns7y  \n195              0.0              0.0              0.0     32nbns7y  \n196              0.0              0.0              0.0     32nbns7y  \n197              1.0              0.0              0.0     32nbns7y  \n200              0.0              0.0              0.0     32nbns7y  \n201              0.0              0.0              0.0     32nbns7y  \n203              0.0              1.0              1.0     32nbns7y  \n205              0.0              0.0              0.0     32nbns7y  \n206              0.0              0.0              0.0     32nbns7y  \n208              1.0              0.0              0.0     32nbns7y  \n209              0.0              0.0              0.0     32nbns7y  ",
      "text/html": "<div>\n<style scoped>\n    .dataframe tbody tr th:only-of-type {\n        vertical-align: middle;\n    }\n\n    .dataframe tbody tr th {\n        vertical-align: top;\n    }\n\n    .dataframe thead th {\n        text-align: right;\n    }\n</style>\n<table border=\"1\" class=\"dataframe\">\n  <thead>\n    <tr style=\"text-align: right;\">\n      <th></th>\n      <th>player.id_in_group</th>\n      <th>player.name</th>\n      <th>player.risk</th>\n      <th>player.choice_1</th>\n      <th>player.choice_2</th>\n      <th>player.choice_3</th>\n      <th>player.choice_4</th>\n      <th>player.choice_5</th>\n      <th>player.choice_6</th>\n      <th>player.choice_7</th>\n      <th>player.choice_8</th>\n      <th>session.code</th>\n    </tr>\n  </thead>\n  <tbody>\n    <tr>\n      <th>182</th>\n      <td>1</td>\n      <td>Aakash Ahuja</td>\n      <td>1.0</td>\n      <td>1.0</td>\n      <td>1.0</td>\n      <td>1.0</td>\n      <td>1.0</td>\n      <td>1.0</td>\n      <td>1.0</td>\n      <td>1.0</td>\n      <td>0.0</td>\n      <td>32nbns7y</td>\n    </tr>\n    <tr>\n      <th>183</th>\n      <td>2</td>\n      <td>Andreia Albino</td>\n      <td>2.0</td>\n      <td>1.0</td>\n      <td>1.0</td>\n      <td>1.0</td>\n      <td>0.0</td>\n      <td>0.0</td>\n      <td>0.0</td>\n      <td>0.0</td>\n      <td>0.0</td>\n      <td>32nbns7y</td>\n    </tr>\n    <tr>\n      <th>184</th>\n      <td>3</td>\n      <td>Anne-Sophie Vienne</td>\n      <td>2.0</td>\n      <td>1.0</td>\n      <td>1.0</td>\n      <td>1.0</td>\n      <td>0.0</td>\n      <td>0.0</td>\n      <td>0.0</td>\n      <td>0.0</td>\n      <td>0.0</td>\n      <td>32nbns7y</td>\n    </tr>\n    <tr>\n      <th>187</th>\n      <td>6</td>\n      <td>Catarina Pereira</td>\n      <td>1.0</td>\n      <td>1.0</td>\n      <td>1.0</td>\n      <td>0.0</td>\n      <td>1.0</td>\n      <td>0.0</td>\n      <td>1.0</td>\n      <td>0.0</td>\n      <td>0.0</td>\n      <td>32nbns7y</td>\n    </tr>\n    <tr>\n      <th>189</th>\n      <td>8</td>\n      <td>Cristiana</td>\n      <td>3.0</td>\n      <td>1.0</td>\n      <td>1.0</td>\n      <td>1.0</td>\n      <td>0.0</td>\n      <td>0.0</td>\n      <td>0.0</td>\n      <td>0.0</td>\n      <td>0.0</td>\n      <td>32nbns7y</td>\n    </tr>\n    <tr>\n      <th>190</th>\n      <td>9</td>\n      <td>Daniele Veggiato</td>\n      <td>1.0</td>\n      <td>1.0</td>\n      <td>1.0</td>\n      <td>1.0</td>\n      <td>0.0</td>\n      <td>0.0</td>\n      <td>0.0</td>\n      <td>0.0</td>\n      <td>0.0</td>\n      <td>32nbns7y</td>\n    </tr>\n    <tr>\n      <th>191</th>\n      <td>10</td>\n      <td>Diogo Bessa</td>\n      <td>2.0</td>\n      <td>1.0</td>\n      <td>1.0</td>\n      <td>1.0</td>\n      <td>1.0</td>\n      <td>1.0</td>\n      <td>0.0</td>\n      <td>0.0</td>\n      <td>0.0</td>\n      <td>32nbns7y</td>\n    </tr>\n    <tr>\n      <th>192</th>\n      <td>11</td>\n      <td>federico innocenti</td>\n      <td>3.0</td>\n      <td>1.0</td>\n      <td>1.0</td>\n      <td>1.0</td>\n      <td>1.0</td>\n      <td>0.0</td>\n      <td>0.0</td>\n      <td>0.0</td>\n      <td>0.0</td>\n      <td>32nbns7y</td>\n    </tr>\n    <tr>\n      <th>193</th>\n      <td>12</td>\n      <td>Francisca Medeiros</td>\n      <td>1.0</td>\n      <td>1.0</td>\n      <td>1.0</td>\n      <td>1.0</td>\n      <td>1.0</td>\n      <td>0.0</td>\n      <td>0.0</td>\n      <td>0.0</td>\n      <td>0.0</td>\n      <td>32nbns7y</td>\n    </tr>\n    <tr>\n      <th>194</th>\n      <td>13</td>\n      <td>Gil Azevedo</td>\n      <td>2.0</td>\n      <td>1.0</td>\n      <td>1.0</td>\n      <td>1.0</td>\n      <td>0.0</td>\n      <td>0.0</td>\n      <td>0.0</td>\n      <td>0.0</td>\n      <td>0.0</td>\n      <td>32nbns7y</td>\n    </tr>\n    <tr>\n      <th>195</th>\n      <td>14</td>\n      <td>Iacopo Fiorentino</td>\n      <td>3.0</td>\n      <td>1.0</td>\n      <td>1.0</td>\n      <td>1.0</td>\n      <td>0.0</td>\n      <td>0.0</td>\n      <td>0.0</td>\n      <td>0.0</td>\n      <td>0.0</td>\n      <td>32nbns7y</td>\n    </tr>\n    <tr>\n      <th>196</th>\n      <td>15</td>\n      <td>Ifeanyi Omokwe</td>\n      <td>3.0</td>\n      <td>1.0</td>\n      <td>0.0</td>\n      <td>0.0</td>\n      <td>0.0</td>\n      <td>0.0</td>\n      <td>0.0</td>\n      <td>0.0</td>\n      <td>0.0</td>\n      <td>32nbns7y</td>\n    </tr>\n    <tr>\n      <th>197</th>\n      <td>16</td>\n      <td>Iñigo</td>\n      <td>1.0</td>\n      <td>1.0</td>\n      <td>1.0</td>\n      <td>1.0</td>\n      <td>1.0</td>\n      <td>1.0</td>\n      <td>1.0</td>\n      <td>0.0</td>\n      <td>0.0</td>\n      <td>32nbns7y</td>\n    </tr>\n    <tr>\n      <th>200</th>\n      <td>19</td>\n      <td>Joao Salgado</td>\n      <td>3.0</td>\n      <td>1.0</td>\n      <td>1.0</td>\n      <td>1.0</td>\n      <td>1.0</td>\n      <td>0.0</td>\n      <td>0.0</td>\n      <td>0.0</td>\n      <td>0.0</td>\n      <td>32nbns7y</td>\n    </tr>\n    <tr>\n      <th>201</th>\n      <td>20</td>\n      <td>Laura Salomon</td>\n      <td>1.0</td>\n      <td>1.0</td>\n      <td>1.0</td>\n      <td>1.0</td>\n      <td>1.0</td>\n      <td>0.0</td>\n      <td>0.0</td>\n      <td>0.0</td>\n      <td>0.0</td>\n      <td>32nbns7y</td>\n    </tr>\n    <tr>\n      <th>203</th>\n      <td>22</td>\n      <td>Rita Carriço</td>\n      <td>1.0</td>\n      <td>1.0</td>\n      <td>1.0</td>\n      <td>1.0</td>\n      <td>0.0</td>\n      <td>0.0</td>\n      <td>0.0</td>\n      <td>1.0</td>\n      <td>1.0</td>\n      <td>32nbns7y</td>\n    </tr>\n    <tr>\n      <th>205</th>\n      <td>24</td>\n      <td>Miguel Alves</td>\n      <td>3.0</td>\n      <td>1.0</td>\n      <td>1.0</td>\n      <td>1.0</td>\n      <td>0.0</td>\n      <td>0.0</td>\n      <td>0.0</td>\n      <td>0.0</td>\n      <td>0.0</td>\n      <td>32nbns7y</td>\n    </tr>\n    <tr>\n      <th>206</th>\n      <td>25</td>\n      <td>Miguel Albergaria</td>\n      <td>2.0</td>\n      <td>1.0</td>\n      <td>0.0</td>\n      <td>0.0</td>\n      <td>0.0</td>\n      <td>0.0</td>\n      <td>0.0</td>\n      <td>0.0</td>\n      <td>0.0</td>\n      <td>32nbns7y</td>\n    </tr>\n    <tr>\n      <th>208</th>\n      <td>27</td>\n      <td>Pedro Matias</td>\n      <td>1.0</td>\n      <td>1.0</td>\n      <td>1.0</td>\n      <td>1.0</td>\n      <td>1.0</td>\n      <td>1.0</td>\n      <td>1.0</td>\n      <td>0.0</td>\n      <td>0.0</td>\n      <td>32nbns7y</td>\n    </tr>\n    <tr>\n      <th>209</th>\n      <td>28</td>\n      <td>Sheharyar Sirhindi</td>\n      <td>2.0</td>\n      <td>1.0</td>\n      <td>1.0</td>\n      <td>0.0</td>\n      <td>0.0</td>\n      <td>0.0</td>\n      <td>0.0</td>\n      <td>0.0</td>\n      <td>0.0</td>\n      <td>32nbns7y</td>\n    </tr>\n  </tbody>\n</table>\n</div>"
     },
     "metadata": {},
     "output_type": "execute_result",
     "execution_count": 158
    }
   ],
   "source": [
    "def replace_values(df):    \n",
    "    for choice in choices:\n",
    "        df[choice].replace({0:1, 1:0},inplace=True)    \n",
    "    return df\n",
    "\n",
    "replace_values(df)\n"
   ],
   "metadata": {
    "collapsed": false,
    "pycharm": {
     "name": "#%%\n",
     "is_executing": false
    }
   }
  },
  {
   "cell_type": "markdown",
   "source": [
    "## Take a random sample to plot\n"
   ],
   "metadata": {
    "collapsed": false
   }
  },
  {
   "cell_type": "code",
   "execution_count": 159,
   "outputs": [
    {
     "name": "stderr",
     "text": [
      "/usr/local/lib/python3.7/site-packages/pandas/core/generic.py:6786: SettingWithCopyWarning: \n",
      "A value is trying to be set on a copy of a slice from a DataFrame\n",
      "\n",
      "See the caveats in the documentation: http://pandas.pydata.org/pandas-docs/stable/user_guide/indexing.html#returning-a-view-versus-a-copy\n",
      "  self._update_inplace(new_data)\n"
     ],
     "output_type": "stream"
    }
   ],
   "source": [
    "def random_sample(df):\n",
    "    df = df.sample(n=1)\n",
    "    return df\n",
    "\n",
    "random_participant = random_sample(df)\n",
    "\n",
    "#Export the choices of the random participant to a LaTeX table\n",
    "to_latex = random_participant.iloc[:,2:11]\n",
    "to_latex_1 = replace_numeric(to_latex)\n",
    "with open('../ProjectReport/includes/table.tex','w') as tf:\n",
    "    tf.write(to_latex_1.to_latex(index=False, header=['Indicated', 'Choice 1', 'Choice 2', 'Choice 3', 'Choice 4', 'Choice 5', 'Choice 6', 'Choice 7', 'Choice 8']))\n",
    "\n",
    "\n",
    "#select the choices and the profile of the random sample\n",
    "choices_random = random_participant.iloc[:,3:11]\n",
    "list = choices_random.values.tolist()\n",
    "choices_made = [item for sublist in list for item in sublist]\n",
    "\n",
    "\n",
    "indicated_profile = int(random_participant['player.risk'])\n",
    "\n",
    "random_name = str(random_participant['player.name'].values[0])\n",
    "with open(\"../ProjectReport/includes/drawn_name.txt\", \"w\") as text_file:\n",
    "    print(random_name, file=text_file)\n",
    "\n",
    "\n",
    "\n"
   ],
   "metadata": {
    "collapsed": false,
    "pycharm": {
     "name": "#%%\n",
     "is_executing": false
    }
   }
  },
  {
   "cell_type": "code",
   "execution_count": 160,
   "outputs": [],
   "source": [
    "if indicated_profile == 0:\n",
    "    plot = [1,1,1,1,1,1,1,1]\n",
    "    risk_profile = 'Risk Averse'\n",
    "elif indicated_profile == 1:\n",
    "    plot = [1,1,1,0,0,0,0,0]\n",
    "    risk_profile = 'Risk Neutral'\n",
    "elif indicated_profile == 2:\n",
    "   plot = [0,0,0,0,0,0,0,0]\n",
    "   risk_profile = 'Risk Loving'"
   ],
   "metadata": {
    "collapsed": false,
    "pycharm": {
     "name": "#%%\n",
     "is_executing": false
    }
   }
  },
  {
   "cell_type": "code",
   "execution_count": 161,
   "outputs": [
    {
     "data": {
      "text/plain": "<Figure size 432x288 with 1 Axes>",
      "image/png": "[encoded data removed]"
     },
     "metadata": {
      "needs_background": "light"
     },
     "output_type": "display_data"
    }
   ],
   "source": [
    "# Create the X-Axis \n",
    "choice = [choice for choice in range(1,9)]\n",
    "\n",
    "plt.plot(choice,choices_made, '-o')\n",
    "plt.plot(choice, plot, '--', color=\"#6c3376\") \n",
    "plt.grid(color='black', linestyle='-', linewidth=0.5, alpha = 0.3, axis = 'y')\n",
    "plt.xlabel('Choice')  \n",
    "plt.ylabel('Safe Choices')  \n",
    "\n",
    "\n",
    "plt.legend(['Choices Made', risk_profile])\n",
    "\n",
    "plt.savefig('../ProjectReport/graphics/random_plot.pdf', bbox_inches=\"tight\")\n",
    "\n"
   ],
   "metadata": {
    "collapsed": false,
    "pycharm": {
     "name": "#%%\n",
     "is_executing": false
    }
   }
  },
  {
   "cell_type": "code",
   "execution_count": 162,
   "outputs": [
    {
     "data": {
      "text/plain": "<Figure size 432x288 with 1 Axes>",
      "image/png": "[encoded data removed]"
     },
     "metadata": {
      "needs_background": "light"
     },
     "output_type": "display_data"
    }
   ],
   "source": [
    "aggregate = df.iloc[:,3:11]\n",
    "\n",
    "replace_values(aggregate)\n",
    "def safe_choices_plot(df):\n",
    "    list = []\n",
    "    # Get the number of entries in the specified column\n",
    "    n = df.shape[0]\n",
    "    for choice in choices:\n",
    "        list.append(np.sum(df[choice] == 0)/n)\n",
    "    return list\n",
    "    \n",
    "safe_choices_plot(aggregate)\n",
    "    \n",
    "plt.plot(choice,safe_choices_plot(aggregate), '-o')\n",
    "plt.plot(choice, [1,1,1,0,0,0,0,0], '--', color=\"#6c3376\") \n",
    "plt.grid(color='black', linestyle='-', linewidth=0.5, alpha = 0.3, axis = 'y')\n",
    "plt.xlabel('Choice')  \n",
    "plt.ylabel('% Safe Choices')\n",
    "plt.legend(['Choices', 'Risk Neutral'])\n",
    "plt.savefig('../ProjectReport/graphics/aggregate_plot.pdf', bbox_inches=\"tight\")\n",
    "\n",
    "    "
   ],
   "metadata": {
    "collapsed": false,
    "pycharm": {
     "name": "#%%\n",
     "is_executing": false
    }
   }
  }
 ],
 "metadata": {
  "kernelspec": {
   "display_name": "Python 3",
   "language": "python",
   "name": "python3"
  },
  "language_info": {
   "codemirror_mode": {
    "name": "ipython",
    "version": 2
   },
   "file_extension": ".py",
   "mimetype": "text/x-python",
   "name": "python",
   "nbconvert_exporter": "python",
   "pygments_lexer": "ipython2",
   "version": "2.7.6"
  },
  "pycharm": {
   "stem_cell": {
    "cell_type": "raw",
    "source": [
     "\n",
     "\n"
    ],
    "metadata": {
     "collapsed": false
    }
   }
  }
 },
 "nbformat": 4,
 "nbformat_minor": 0
}